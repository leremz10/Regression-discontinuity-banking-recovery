{
 "cells": [
  {
   "cell_type": "markdown",
   "id": "077b99c0-2458-4c25-8400-8d2e02aa8ec0",
   "metadata": {
    "dc": {
     "key": "4"
    },
    "run_control": {
     "frozen": true
    },
    "tags": [
     "context"
    ]
   },
   "source": [
    "## 1. Regression discontinuity: banking recovery\n",
    "<p>After a debt has been legally declared \"uncollectable\" by a bank, the account is considered \"charged-off.\" But that doesn't mean the bank <strong><em>walks away</em></strong> from the debt. They still want to collect some of the money they are owed. The bank will score the account to assess the expected recovery amount, that is, the expected amount that the bank may be able to receive from the customer in the future. This amount is a function of the probability of the customer paying, the total debt, and other factors that impact the ability and willingness to pay.</p>\n",
    "<p>The bank has implemented different recovery strategies at different thresholds (\\$1000, \\$2000, etc.) where the greater the expected recovery amount, the more effort the bank puts into contacting the customer. For low recovery amounts (Level 0), the bank just adds the customer's contact information to their automatic dialer and emailing system. For higher recovery strategies, the bank incurs more costs as they leverage human resources in more efforts to obtain payments. Each additional level of recovery strategy requires an additional \\$50 per customer so that customers in the Recovery Strategy Level 1 cost the company \\$50 more than those in Level 0. Customers in Level 2 cost \\$50 more than those in Level 1, etc. </p>\n",
    "<p><strong>The big question</strong>: does the extra amount that is recovered at the higher strategy level exceed the extra \\$50 in costs? In other words, was there a jump (also called a \"discontinuity\") of more than \\$50 in the amount recovered at the higher strategy level? We'll find out in this notebook.</p>\n",
    "<p>![Regression discontinuity graph](https://assets.datacamp.com/production/project_504/img/Regression Discontinuity graph.png)</p>\n",
    "<p>First, we'll load the banking dataset and look at the first few rows of data. This lets us understand the dataset itself and begin thinking about how to analyze the data.</p>"
   ]
  },
  {
   "cell_type": "code",
   "execution_count": 1,
   "id": "ef53a453-b7d8-4140-9ebc-3c6a6186d046",
   "metadata": {
    "dc": {
     "key": "4"
    },
    "tags": [
     "sample_code"
    ]
   },
   "outputs": [
    {
     "data": {
      "text/html": [
       "<div>\n",
       "<style scoped>\n",
       "    .dataframe tbody tr th:only-of-type {\n",
       "        vertical-align: middle;\n",
       "    }\n",
       "\n",
       "    .dataframe tbody tr th {\n",
       "        vertical-align: top;\n",
       "    }\n",
       "\n",
       "    .dataframe thead th {\n",
       "        text-align: right;\n",
       "    }\n",
       "</style>\n",
       "<table border=\"1\" class=\"dataframe\">\n",
       "  <thead>\n",
       "    <tr style=\"text-align: right;\">\n",
       "      <th></th>\n",
       "      <th>id</th>\n",
       "      <th>expected_recovery_amount</th>\n",
       "      <th>actual_recovery_amount</th>\n",
       "      <th>recovery_strategy</th>\n",
       "      <th>age</th>\n",
       "      <th>sex</th>\n",
       "    </tr>\n",
       "  </thead>\n",
       "  <tbody>\n",
       "    <tr>\n",
       "      <th>0</th>\n",
       "      <td>2030</td>\n",
       "      <td>194</td>\n",
       "      <td>263.540</td>\n",
       "      <td>Level 0 Recovery</td>\n",
       "      <td>19</td>\n",
       "      <td>Male</td>\n",
       "    </tr>\n",
       "    <tr>\n",
       "      <th>1</th>\n",
       "      <td>1150</td>\n",
       "      <td>486</td>\n",
       "      <td>416.090</td>\n",
       "      <td>Level 0 Recovery</td>\n",
       "      <td>25</td>\n",
       "      <td>Female</td>\n",
       "    </tr>\n",
       "    <tr>\n",
       "      <th>2</th>\n",
       "      <td>380</td>\n",
       "      <td>527</td>\n",
       "      <td>429.350</td>\n",
       "      <td>Level 0 Recovery</td>\n",
       "      <td>27</td>\n",
       "      <td>Male</td>\n",
       "    </tr>\n",
       "    <tr>\n",
       "      <th>3</th>\n",
       "      <td>1838</td>\n",
       "      <td>536</td>\n",
       "      <td>296.990</td>\n",
       "      <td>Level 0 Recovery</td>\n",
       "      <td>25</td>\n",
       "      <td>Male</td>\n",
       "    </tr>\n",
       "    <tr>\n",
       "      <th>4</th>\n",
       "      <td>1995</td>\n",
       "      <td>541</td>\n",
       "      <td>346.385</td>\n",
       "      <td>Level 0 Recovery</td>\n",
       "      <td>34</td>\n",
       "      <td>Male</td>\n",
       "    </tr>\n",
       "  </tbody>\n",
       "</table>\n",
       "</div>"
      ],
      "text/plain": [
       "     id  expected_recovery_amount  actual_recovery_amount recovery_strategy  \\\n",
       "0  2030                       194                 263.540  Level 0 Recovery   \n",
       "1  1150                       486                 416.090  Level 0 Recovery   \n",
       "2   380                       527                 429.350  Level 0 Recovery   \n",
       "3  1838                       536                 296.990  Level 0 Recovery   \n",
       "4  1995                       541                 346.385  Level 0 Recovery   \n",
       "\n",
       "   age     sex  \n",
       "0   19    Male  \n",
       "1   25  Female  \n",
       "2   27    Male  \n",
       "3   25    Male  \n",
       "4   34    Male  "
      ]
     },
     "execution_count": 1,
     "metadata": {},
     "output_type": "execute_result"
    }
   ],
   "source": [
    "# Import modules\n",
    "import pandas as pd\n",
    "import numpy as np\n",
    "\n",
    "# Read in dataset\n",
    "df = pd.read_csv(\"bank_data.csv\")\n",
    "\n",
    "# Print the first few rows of the DataFrame\n",
    "df.head()"
   ]
  },
  {
   "cell_type": "markdown",
   "id": "a698573e-de1e-4285-9e24-9fee99578fa8",
   "metadata": {
    "dc": {
     "key": "11"
    },
    "run_control": {
     "frozen": true
    },
    "tags": [
     "context"
    ]
   },
   "source": [
    "## 2. Graphical exploratory data analysis\n",
    "<p>The bank has implemented different recovery strategies at different thresholds (\\$1000, \\$2000, \\$3000 and \\$5000) where the greater the Expected Recovery Amount, the more effort the bank puts into contacting the customer. Zeroing in on the first transition (between Level 0 and Level 1) means we are focused on the population with Expected Recovery Amounts between \\$0 and \\$2000 where the transition between Levels occurred at \\$1000. We know that the customers in Level 1 (expected recovery amounts between \\$1001 and \\$2000) received more attention from the bank and, by definition, they had higher Expected Recovery Amounts than the customers in Level 0 (between \\$1 and \\$1000).</p>\n",
    "<p>Here's a quick summary of the Levels and thresholds again:</p>\n",
    "<ul>\n",
    "<li>Level 0: Expected recovery amounts &gt;\\$0 and &lt;=\\$1000</li>\n",
    "<li>Level 1: Expected recovery amounts &gt;\\$1000 and &lt;=\\$2000</li>\n",
    "<li>The threshold of \\$1000 separates Level 0 from Level 1</li>\n",
    "</ul>\n",
    "<p>A key question is whether there are other factors besides Expected Recovery Amount that also varied systematically across the \\$1000 threshold. For example, does the customer age show a jump (discontinuity) at the \\$1000 threshold or does that age vary smoothly? We can examine this by first making a scatter plot of the age as a function of Expected Recovery Amount for a small window of Expected Recovery Amount, \\$0 to \\$2000. This range covers Levels 0 and 1.</p>"
   ]
  },
  {
   "cell_type": "code",
   "execution_count": 2,
   "id": "61ce61ec-633c-4773-b2af-54a2bc3daab3",
   "metadata": {
    "dc": {
     "key": "11"
    },
    "tags": [
     "sample_code"
    ]
   },
   "outputs": [
    {
     "name": "stderr",
     "output_type": "stream",
     "text": [
      "No artists with labels found to put in legend.  Note that artists whose label start with an underscore are ignored when legend() is called with no argument.\n"
     ]
    },
    {
     "data": {
      "image/png": "[encoded data removed]",
      "text/plain": [
       "<Figure size 640x480 with 1 Axes>"
      ]
     },
     "metadata": {},
     "output_type": "display_data"
    }
   ],
   "source": [
    "# Scatter plot of Age vs. Expected Recovery Amount\n",
    "import matplotlib.pyplot as plt\n",
    "%matplotlib inline\n",
    "plt.scatter(x=df['expected_recovery_amount'], y=df['age'], c=\"g\", s=2)\n",
    "plt.xlim(0, 2000)\n",
    "plt.ylim(0, 60)\n",
    "plt.xlabel(\"Expected Recovery Amount\")\n",
    "plt.ylabel(\"Age\")\n",
    "plt.legend(loc=2)\n",
    "plt.show()"
   ]
  },
  {
   "cell_type": "markdown",
   "id": "4ace3718-f8fd-421d-aad2-dc9f50e971ec",
   "metadata": {
    "dc": {
     "key": "18"
    },
    "run_control": {
     "frozen": true
    },
    "tags": [
     "context"
    ]
   },
   "source": [
    "## 3. Statistical test:  age vs. expected recovery amount\n",
    "<p>We want to convince ourselves that variables such as age and sex are similar above and below the \\$1000 Expected Recovery Amount threshold. This is important because we want to be able to conclude that differences in the actual recovery amount are due to the higher Recovery Strategy and not due to some other difference like age or sex.</p>\n",
    "<p>The scatter plot of age versus Expected Recovery Amount did not show an obvious jump around \\$1000.  We will now do statistical analysis examining the average age of the customers just above and just below the threshold. We can start by exploring the range from \\$900 to \\$1100.</p>\n",
    "<p>For determining if there is a difference in the ages just above and just below the threshold, we will use the Kruskal-Wallis test, a statistical test that makes no distributional assumptions.</p>"
   ]
  },
  {
   "cell_type": "code",
   "execution_count": 3,
   "id": "a20e0c7a-1ec3-4897-adff-b4418ad802dc",
   "metadata": {
    "dc": {
     "key": "18"
    },
    "tags": [
     "sample_code"
    ]
   },
   "outputs": [
    {
     "data": {
      "text/plain": [
       "KruskalResult(statistic=3.4572342749517513, pvalue=0.06297556896097407)"
      ]
     },
     "execution_count": 3,
     "metadata": {},
     "output_type": "execute_result"
    }
   ],
   "source": [
    "# Import stats module\n",
    "from scipy import stats\n",
    "\n",
    "# Compute average age just below and above the threshold\n",
    "era_900_1100 = df.loc[(df['expected_recovery_amount']<1100) & \n",
    "                      (df['expected_recovery_amount']>=900)]\n",
    "by_recovery_strategy = era_900_1100.groupby(['recovery_strategy'])\n",
    "by_recovery_strategy['age'].describe().unstack()\n",
    "\n",
    "# Perform Kruskal-Wallis test \n",
    "Level_0_age = era_900_1100.loc[df['recovery_strategy']==\"Level 0 Recovery\"]['age']\n",
    "Level_1_age = era_900_1100.loc[df['recovery_strategy']==\"Level 1 Recovery\"]['age']\n",
    "stats.kruskal(Level_0_age,Level_1_age) "
   ]
  },
  {
   "cell_type": "markdown",
   "id": "2b9f42c3-4e5b-49f2-ada1-a16c1239996e",
   "metadata": {
    "dc": {
     "key": "26"
    },
    "run_control": {
     "frozen": true
    },
    "tags": [
     "context"
    ]
   },
   "source": [
    "## 4. Statistical test:  sex vs. expected recovery amount\n",
    "<p>We have seen that there is no major jump in the average customer age just above and just \n",
    "below the \\$1000 threshold by doing a statistical test as well as exploring it graphically with a scatter plot.  </p>\n",
    "<p>We want to also test that the percentage of customers that are male does not jump across the \\$1000 threshold. We can start by exploring the range of \\$900 to \\$1100 and later adjust this range.</p>\n",
    "<p>We can examine this question statistically by developing cross-tabs as well as doing chi-square tests of the percentage of customers that are male vs. female.</p>"
   ]
  },
  {
   "cell_type": "code",
   "execution_count": 4,
   "id": "00f2e746-2ecb-4807-9224-95a9acdea4c4",
   "metadata": {
    "dc": {
     "key": "26"
    },
    "tags": [
     "sample_code"
    ]
   },
   "outputs": [
    {
     "data": {
      "text/plain": [
       "0.5377947810444592"
      ]
     },
     "execution_count": 4,
     "metadata": {},
     "output_type": "execute_result"
    }
   ],
   "source": [
    "# Number of customers in each category\n",
    "crosstab = pd.crosstab(df.loc[(df['expected_recovery_amount']<1100) & \n",
    "                              (df['expected_recovery_amount']>=900)]['recovery_strategy'], \n",
    "                       df['sex'])\n",
    "# ... YOUR CODE FOR TASK 4 ...\n",
    "\n",
    "# Chi-square test\n",
    "chi2_stat, p_val, dof, ex = stats.chi2_contingency(crosstab)\n",
    "p_val"
   ]
  },
  {
   "cell_type": "code",
   "execution_count": 5,
   "id": "7d71cee1",
   "metadata": {},
   "outputs": [
    {
     "data": {
      "text/html": [
       "<div>\n",
       "<style scoped>\n",
       "    .dataframe tbody tr th:only-of-type {\n",
       "        vertical-align: middle;\n",
       "    }\n",
       "\n",
       "    .dataframe tbody tr th {\n",
       "        vertical-align: top;\n",
       "    }\n",
       "\n",
       "    .dataframe thead th {\n",
       "        text-align: right;\n",
       "    }\n",
       "</style>\n",
       "<table border=\"1\" class=\"dataframe\">\n",
       "  <thead>\n",
       "    <tr style=\"text-align: right;\">\n",
       "      <th>sex</th>\n",
       "      <th>Female</th>\n",
       "      <th>Male</th>\n",
       "    </tr>\n",
       "    <tr>\n",
       "      <th>recovery_strategy</th>\n",
       "      <th></th>\n",
       "      <th></th>\n",
       "    </tr>\n",
       "  </thead>\n",
       "  <tbody>\n",
       "    <tr>\n",
       "      <th>Level 0 Recovery</th>\n",
       "      <td>32</td>\n",
       "      <td>57</td>\n",
       "    </tr>\n",
       "    <tr>\n",
       "      <th>Level 1 Recovery</th>\n",
       "      <td>39</td>\n",
       "      <td>55</td>\n",
       "    </tr>\n",
       "  </tbody>\n",
       "</table>\n",
       "</div>"
      ],
      "text/plain": [
       "sex                Female  Male\n",
       "recovery_strategy              \n",
       "Level 0 Recovery       32    57\n",
       "Level 1 Recovery       39    55"
      ]
     },
     "execution_count": 5,
     "metadata": {},
     "output_type": "execute_result"
    }
   ],
   "source": [
    "crosstab"
   ]
  },
  {
   "cell_type": "code",
   "execution_count": 6,
   "id": "7f582ab2",
   "metadata": {},
   "outputs": [
    {
     "data": {
      "text/plain": [
       "Chi2ContingencyResult(statistic=0.3796422112341753, pvalue=0.5377947810444592, dof=1, expected_freq=array([[34.53005464, 54.46994536],\n",
       "       [36.46994536, 57.53005464]]))"
      ]
     },
     "execution_count": 6,
     "metadata": {},
     "output_type": "execute_result"
    }
   ],
   "source": [
    "stats.chi2_contingency(crosstab)"
   ]
  },
  {
   "cell_type": "markdown",
   "id": "b764891e-cd9c-4c90-b3b6-aacbb89a822e",
   "metadata": {
    "dc": {
     "key": "33"
    },
    "run_control": {
     "frozen": true
    },
    "tags": [
     "context"
    ]
   },
   "source": [
    "## 5. Exploratory graphical analysis: recovery amount\n",
    "<p>We are now reasonably confident that customers just above and just below the \\$1000 threshold are, on average, similar in their average age and the percentage that are male.  </p>\n",
    "<p>It is now time to focus on the key outcome of interest, the actual recovery amount.</p>\n",
    "<p>A first step in examining the relationship between the actual recovery amount and the expected recovery amount is to develop a scatter plot where we want to focus our attention at the range just below and just above the threshold. Specifically, we will develop a scatter plot of  Expected Recovery Amount (X) versus Actual Recovery Amount (Y) for Expected Recovery Amounts between \\$900 to \\$1100.  This range covers Levels 0 and 1.  A key question is whether or not we see a discontinuity (jump) around the \\$1000 threshold.</p>"
   ]
  },
  {
   "cell_type": "code",
   "execution_count": 5,
   "id": "c92525eb-5aec-467f-81af-4db019f3b7c2",
   "metadata": {
    "dc": {
     "key": "33"
    },
    "tags": [
     "sample_code"
    ]
   },
   "outputs": [
    {
     "name": "stderr",
     "output_type": "stream",
     "text": [
      "No artists with labels found to put in legend.  Note that artists whose label start with an underscore are ignored when legend() is called with no argument.\n"
     ]
    },
    {
     "data": {
      "image/png": "[encoded data removed]",
      "text/plain": [
       "<Figure size 432x288 with 1 Axes>"
      ]
     },
     "metadata": {
      "needs_background": "light"
     },
     "output_type": "display_data"
    }
   ],
   "source": [
    "# Scatter plot of Actual Recovery Amount vs. Expected Recovery Amount \n",
    "plt.scatter(x=df['expected_recovery_amount'], y=df['actual_recovery_amount'], c=\"g\", s=2)\n",
    "plt.xlim(900, 1100)\n",
    "plt.ylim(0, 2000)\n",
    "plt.xlabel(\"Expected Recovery Amount\")\n",
    "plt.ylabel(\"Actual Recovery Amount\")\n",
    "plt.legend(loc=2)\n",
    "plt.show()"
   ]
  },
  {
   "cell_type": "markdown",
   "id": "2f67a406-6872-4cc7-9635-be8eb5b69310",
   "metadata": {
    "dc": {
     "key": "40"
    },
    "run_control": {
     "frozen": true
    },
    "tags": [
     "context"
    ]
   },
   "source": [
    "## 6. Statistical analysis:  recovery amount\n",
    "<p>As we did with age, we can perform statistical tests to see if the actual recovery amount has a discontinuity above the \\$1000 threshold. We are going to do this for two different windows of the expected recovery amount \\$900 to \\$1100 and for a narrow range of \\$950 to \\$1050 to see if our results are consistent.</p>\n",
    "<p>Again, we will use the Kruskal-Wallis test.</p>\n",
    "<p>We will first compute the average actual recovery amount for those customers just below and just above the threshold using a range from \\$900 to \\$1100.  Then we will perform a Kruskal-Wallis test to see if the actual recovery amounts are different just above and just below the threshold.  Once we do that, we will repeat these steps for a smaller window of \\$950 to \\$1050.</p>"
   ]
  },
  {
   "cell_type": "code",
   "execution_count": 6,
   "id": "91479db2-972e-4d55-97ef-2aa5874e2ff7",
   "metadata": {
    "dc": {
     "key": "40"
    },
    "tags": [
     "sample_code"
    ]
   },
   "outputs": [
    {
     "data": {
      "text/plain": [
       "KruskalResult(statistic=30.246000000000038, pvalue=3.80575314300276e-08)"
      ]
     },
     "execution_count": 6,
     "metadata": {},
     "output_type": "execute_result"
    }
   ],
   "source": [
    "# Compute average actual recovery amount just below and above the threshold\n",
    "by_recovery_strategy['actual_recovery_amount'].describe().unstack()\n",
    "\n",
    "# Perform Kruskal-Wallis test\n",
    "Level_0_actual = era_900_1100.loc[df['recovery_strategy']=='Level 0 Recovery']['actual_recovery_amount']\n",
    "Level_1_actual = era_900_1100.loc[df['recovery_strategy']=='Level 1 Recovery']['actual_recovery_amount']\n",
    "stats.kruskal(Level_0_actual,Level_1_actual) \n",
    "\n",
    "# Repeat for a smaller range of $950 to $1050\n",
    "era_950_1050 = df.loc[(df['expected_recovery_amount']<1050) & \n",
    "                      (df['expected_recovery_amount']>=950)]\n",
    "Level_0_actual = era_950_1050.loc[df['recovery_strategy']==\"Level 0 Recovery\"]['actual_recovery_amount']\n",
    "Level_1_actual = era_950_1050.loc[df['recovery_strategy']==\"Level 1 Recovery\"]['actual_recovery_amount']\n",
    "stats.kruskal(Level_0_actual,Level_1_actual) "
   ]
  },
  {
   "cell_type": "markdown",
   "id": "f7d62e58-f9bc-4898-9a31-5439fe58faae",
   "metadata": {
    "dc": {
     "key": "48"
    },
    "run_control": {
     "frozen": true
    },
    "tags": [
     "context"
    ]
   },
   "source": [
    "## 7. Regression modeling: no threshold\n",
    "<p>We now want to take a regression-based approach to estimate the program impact at the \\$1000 threshold using data that is just above and below the threshold. </p>\n",
    "<p>We will build two models. The first model does not have a threshold while the second will include a threshold.</p>\n",
    "<p>The first model predicts the actual recovery amount (dependent variable) as a function of the expected recovery amount (independent variable). We expect that there will be a strong positive relationship between these two variables.  </p>\n",
    "<p>We will examine the adjusted R-squared to see the percent of variance explained by the model.  In this model, we are not representing the threshold but simply seeing how the variable used for assigning the customers (expected recovery amount) relates to the outcome variable (actual recovery amount).</p>"
   ]
  },
  {
   "cell_type": "code",
   "execution_count": 7,
   "id": "705a183e-6897-4074-a077-376c5def6fc0",
   "metadata": {
    "dc": {
     "key": "48"
    },
    "tags": [
     "sample_code"
    ]
   },
   "outputs": [
    {
     "data": {
      "text/html": [
       "<table class=\"simpletable\">\n",
       "<caption>OLS Regression Results</caption>\n",
       "<tr>\n",
       "  <th>Dep. Variable:</th>    <td>actual_recovery_amount</td> <th>  R-squared:         </th> <td>   0.261</td>\n",
       "</tr>\n",
       "<tr>\n",
       "  <th>Model:</th>                      <td>OLS</td>          <th>  Adj. R-squared:    </th> <td>   0.256</td>\n",
       "</tr>\n",
       "<tr>\n",
       "  <th>Method:</th>                <td>Least Squares</td>     <th>  F-statistic:       </th> <td>   63.78</td>\n",
       "</tr>\n",
       "<tr>\n",
       "  <th>Date:</th>                <td>Tue, 29 Nov 2022</td>    <th>  Prob (F-statistic):</th> <td>1.56e-13</td>\n",
       "</tr>\n",
       "<tr>\n",
       "  <th>Time:</th>                    <td>21:52:19</td>        <th>  Log-Likelihood:    </th> <td> -1278.9</td>\n",
       "</tr>\n",
       "<tr>\n",
       "  <th>No. Observations:</th>         <td>   183</td>         <th>  AIC:               </th> <td>   2562.</td>\n",
       "</tr>\n",
       "<tr>\n",
       "  <th>Df Residuals:</th>             <td>   181</td>         <th>  BIC:               </th> <td>   2568.</td>\n",
       "</tr>\n",
       "<tr>\n",
       "  <th>Df Model:</th>                 <td>     1</td>         <th>                     </th>     <td> </td>   \n",
       "</tr>\n",
       "<tr>\n",
       "  <th>Covariance Type:</th>         <td>nonrobust</td>       <th>                     </th>     <td> </td>   \n",
       "</tr>\n",
       "</table>\n",
       "<table class=\"simpletable\">\n",
       "<tr>\n",
       "              <td></td>                <th>coef</th>     <th>std err</th>      <th>t</th>      <th>P>|t|</th>  <th>[0.025</th>    <th>0.975]</th>  \n",
       "</tr>\n",
       "<tr>\n",
       "  <th>const</th>                    <td>-1978.7597</td> <td>  347.741</td> <td>   -5.690</td> <td> 0.000</td> <td>-2664.907</td> <td>-1292.612</td>\n",
       "</tr>\n",
       "<tr>\n",
       "  <th>expected_recovery_amount</th> <td>    2.7577</td> <td>    0.345</td> <td>    7.986</td> <td> 0.000</td> <td>    2.076</td> <td>    3.439</td>\n",
       "</tr>\n",
       "</table>\n",
       "<table class=\"simpletable\">\n",
       "<tr>\n",
       "  <th>Omnibus:</th>       <td>64.493</td> <th>  Durbin-Watson:     </th> <td>   1.777</td>\n",
       "</tr>\n",
       "<tr>\n",
       "  <th>Prob(Omnibus):</th> <td> 0.000</td> <th>  Jarque-Bera (JB):  </th> <td> 185.818</td>\n",
       "</tr>\n",
       "<tr>\n",
       "  <th>Skew:</th>          <td> 1.463</td> <th>  Prob(JB):          </th> <td>4.47e-41</td>\n",
       "</tr>\n",
       "<tr>\n",
       "  <th>Kurtosis:</th>      <td> 6.977</td> <th>  Cond. No.          </th> <td>1.80e+04</td>\n",
       "</tr>\n",
       "</table><br/><br/>Notes:<br/>[1] Standard Errors assume that the covariance matrix of the errors is correctly specified.<br/>[2] The condition number is large, 1.8e+04. This might indicate that there are<br/>strong multicollinearity or other numerical problems."
      ],
      "text/plain": [
       "<class 'statsmodels.iolib.summary.Summary'>\n",
       "\"\"\"\n",
       "                              OLS Regression Results                              \n",
       "==================================================================================\n",
       "Dep. Variable:     actual_recovery_amount   R-squared:                       0.261\n",
       "Model:                                OLS   Adj. R-squared:                  0.256\n",
       "Method:                     Least Squares   F-statistic:                     63.78\n",
       "Date:                    Tue, 29 Nov 2022   Prob (F-statistic):           1.56e-13\n",
       "Time:                            21:52:19   Log-Likelihood:                -1278.9\n",
       "No. Observations:                     183   AIC:                             2562.\n",
       "Df Residuals:                         181   BIC:                             2568.\n",
       "Df Model:                               1                                         \n",
       "Covariance Type:                nonrobust                                         \n",
       "============================================================================================\n",
       "                               coef    std err          t      P>|t|      [0.025      0.975]\n",
       "--------------------------------------------------------------------------------------------\n",
       "const                    -1978.7597    347.741     -5.690      0.000   -2664.907   -1292.612\n",
       "expected_recovery_amount     2.7577      0.345      7.986      0.000       2.076       3.439\n",
       "==============================================================================\n",
       "Omnibus:                       64.493   Durbin-Watson:                   1.777\n",
       "Prob(Omnibus):                  0.000   Jarque-Bera (JB):              185.818\n",
       "Skew:                           1.463   Prob(JB):                     4.47e-41\n",
       "Kurtosis:                       6.977   Cond. No.                     1.80e+04\n",
       "==============================================================================\n",
       "\n",
       "Notes:\n",
       "[1] Standard Errors assume that the covariance matrix of the errors is correctly specified.\n",
       "[2] The condition number is large, 1.8e+04. This might indicate that there are\n",
       "strong multicollinearity or other numerical problems.\n",
       "\"\"\""
      ]
     },
     "execution_count": 7,
     "metadata": {},
     "output_type": "execute_result"
    }
   ],
   "source": [
    "# Import statsmodels\n",
    "import statsmodels.api as sm\n",
    "\n",
    "# Define X and y\n",
    "X = era_900_1100[\"expected_recovery_amount\"]\n",
    "y = era_900_1100[\"actual_recovery_amount\"]\n",
    "X = sm.add_constant(X)\n",
    "\n",
    "# Build linear regression model\n",
    "model = sm.OLS(y, X).fit()\n",
    "predictions = model.predict(X)\n",
    "\n",
    "# Print out the model summary statistics\n",
    "model.summary()"
   ]
  },
  {
   "cell_type": "markdown",
   "id": "8f7d7a26",
   "metadata": {},
   "source": [
    "<p>Dependent Variable: The dependent variable in the regression is \"actual_recovery_amount.\"\n",
    "\n",
    "R-squared: The R-squared value indicates the proportion of the variance in the dependent variable that can be explained by the independent variable(s). In this case, the R-squared value is 0.261, indicating that approximately 26.1% of the variation in the actual recovery amount can be explained by the independent variable(s).\n",
    "\n",
    "Adjusted R-squared: The adjusted R-squared value takes into account the number of predictors and adjusts the R-squared value accordingly. It is 0.256 in this analysis.\n",
    "\n",
    "F-statistic: The F-statistic measures the overall significance of the regression model. A larger F-statistic indicates a more significant relationship between the dependent and independent variables. Here, the F-statistic is 63.78, and the associated probability (Prob (F-statistic)) is 1.56e-13, which is very small, indicating a statistically significant relationship.\n",
    "\n",
    "Coefficients: The coefficients section provides the estimated values for the intercept (const) and the independent variable \"expected_recovery_amount.\" In this analysis, the estimated intercept is -1978.7597, and the estimated coefficient for \"expected_recovery_amount\" is 2.7577. These coefficients indicate the expected change in the dependent variable for a one-unit change in the independent variable, assuming all other variables are held constant.\n",
    "\n",
    "P-values: The P-values associated with the coefficients indicate the statistical significance of each coefficient. In this case, both the intercept and the coefficient for \"expected_recovery_amount\" have p-values of 0.000, indicating that they are statistically significant.\n",
    "\n",
    "Confidence Intervals: The confidence intervals provide a range of values within which the true population parameters are likely to fall. The 95% confidence intervals for the intercept and coefficient for \"expected_recovery_amount\" are also provided.\n",
    "\n",
    "Omnibus, Jarque-Bera, Skewness, and Kurtosis: These statistics relate to the normality assumption of the model's residuals. Omnibus tests the overall normality, Jarque-Bera tests the skewness and kurtosis of the residuals. In this case, the Omnibus and Jarque-Bera tests indicate significant departures from normality, as the p-values associated with these tests are very small.\n",
    "\n",
    "Durbin-Watson: The Durbin-Watson statistic tests for autocorrelation in the residuals. A value around 2 suggests no significant autocorrelation. Here, the value is 1.777, indicating relatively low positive autocorrelation.\n",
    "\n",
    "Condition Number: The condition number assesses the multicollinearity of the independent variables. A higher condition number suggests stronger multicollinearity. In this case, the condition number is 1.80e+04.</p>"
   ]
  },
  {
   "cell_type": "markdown",
   "id": "b50a52d2-7ef7-4fc4-bc66-8d0021b5cef0",
   "metadata": {
    "dc": {
     "key": "55"
    },
    "run_control": {
     "frozen": true
    },
    "tags": [
     "context"
    ]
   },
   "source": [
    "## 8. Regression modeling: adding true threshold\n",
    "<p>From the first model, we see that the expected recovery amount's regression coefficient is statistically significant. </p>\n",
    "<p>The second model adds an indicator of the true threshold to the model (in this case at \\$1000).  </p>\n",
    "<p>We will create an indicator variable (either a 0 or a 1) that represents whether or not the expected recovery amount was greater than \\$1000. When we add the true threshold to the model, the regression coefficient for the true threshold represents the additional amount recovered due to the higher recovery strategy.  That is to say, the regression coefficient for the true threshold measures the size of the discontinuity for customers just above and just below the threshold.</p>\n",
    "<p>If the higher recovery strategy helped recovery more money, then the regression coefficient of the true threshold will be greater than zero.  If the higher recovery strategy did not help recovery more money, then the regression coefficient will not be statistically significant.</p>"
   ]
  },
  {
   "cell_type": "code",
   "execution_count": 8,
   "id": "73f251b7-5209-46a6-bcba-c3a26ced0a8a",
   "metadata": {
    "dc": {
     "key": "55"
    },
    "tags": [
     "sample_code"
    ]
   },
   "outputs": [
    {
     "data": {
      "text/html": [
       "<table class=\"simpletable\">\n",
       "<caption>OLS Regression Results</caption>\n",
       "<tr>\n",
       "  <th>Dep. Variable:</th>    <td>actual_recovery_amount</td> <th>  R-squared:         </th> <td>   0.261</td>\n",
       "</tr>\n",
       "<tr>\n",
       "  <th>Model:</th>                      <td>OLS</td>          <th>  Adj. R-squared:    </th> <td>   0.256</td>\n",
       "</tr>\n",
       "<tr>\n",
       "  <th>Method:</th>                <td>Least Squares</td>     <th>  F-statistic:       </th> <td>   63.78</td>\n",
       "</tr>\n",
       "<tr>\n",
       "  <th>Date:</th>                <td>Tue, 29 Nov 2022</td>    <th>  Prob (F-statistic):</th> <td>1.56e-13</td>\n",
       "</tr>\n",
       "<tr>\n",
       "  <th>Time:</th>                    <td>21:52:19</td>        <th>  Log-Likelihood:    </th> <td> -1278.9</td>\n",
       "</tr>\n",
       "<tr>\n",
       "  <th>No. Observations:</th>         <td>   183</td>         <th>  AIC:               </th> <td>   2562.</td>\n",
       "</tr>\n",
       "<tr>\n",
       "  <th>Df Residuals:</th>             <td>   181</td>         <th>  BIC:               </th> <td>   2568.</td>\n",
       "</tr>\n",
       "<tr>\n",
       "  <th>Df Model:</th>                 <td>     1</td>         <th>                     </th>     <td> </td>   \n",
       "</tr>\n",
       "<tr>\n",
       "  <th>Covariance Type:</th>         <td>nonrobust</td>       <th>                     </th>     <td> </td>   \n",
       "</tr>\n",
       "</table>\n",
       "<table class=\"simpletable\">\n",
       "<tr>\n",
       "              <td></td>                <th>coef</th>     <th>std err</th>      <th>t</th>      <th>P>|t|</th>  <th>[0.025</th>    <th>0.975]</th>  \n",
       "</tr>\n",
       "<tr>\n",
       "  <th>const</th>                    <td>-1978.7597</td> <td>  347.741</td> <td>   -5.690</td> <td> 0.000</td> <td>-2664.907</td> <td>-1292.612</td>\n",
       "</tr>\n",
       "<tr>\n",
       "  <th>expected_recovery_amount</th> <td>    2.7577</td> <td>    0.345</td> <td>    7.986</td> <td> 0.000</td> <td>    2.076</td> <td>    3.439</td>\n",
       "</tr>\n",
       "</table>\n",
       "<table class=\"simpletable\">\n",
       "<tr>\n",
       "  <th>Omnibus:</th>       <td>64.493</td> <th>  Durbin-Watson:     </th> <td>   1.777</td>\n",
       "</tr>\n",
       "<tr>\n",
       "  <th>Prob(Omnibus):</th> <td> 0.000</td> <th>  Jarque-Bera (JB):  </th> <td> 185.818</td>\n",
       "</tr>\n",
       "<tr>\n",
       "  <th>Skew:</th>          <td> 1.463</td> <th>  Prob(JB):          </th> <td>4.47e-41</td>\n",
       "</tr>\n",
       "<tr>\n",
       "  <th>Kurtosis:</th>      <td> 6.977</td> <th>  Cond. No.          </th> <td>1.80e+04</td>\n",
       "</tr>\n",
       "</table><br/><br/>Notes:<br/>[1] Standard Errors assume that the covariance matrix of the errors is correctly specified.<br/>[2] The condition number is large, 1.8e+04. This might indicate that there are<br/>strong multicollinearity or other numerical problems."
      ],
      "text/plain": [
       "<class 'statsmodels.iolib.summary.Summary'>\n",
       "\"\"\"\n",
       "                              OLS Regression Results                              \n",
       "==================================================================================\n",
       "Dep. Variable:     actual_recovery_amount   R-squared:                       0.261\n",
       "Model:                                OLS   Adj. R-squared:                  0.256\n",
       "Method:                     Least Squares   F-statistic:                     63.78\n",
       "Date:                    Tue, 29 Nov 2022   Prob (F-statistic):           1.56e-13\n",
       "Time:                            21:52:19   Log-Likelihood:                -1278.9\n",
       "No. Observations:                     183   AIC:                             2562.\n",
       "Df Residuals:                         181   BIC:                             2568.\n",
       "Df Model:                               1                                         \n",
       "Covariance Type:                nonrobust                                         \n",
       "============================================================================================\n",
       "                               coef    std err          t      P>|t|      [0.025      0.975]\n",
       "--------------------------------------------------------------------------------------------\n",
       "const                    -1978.7597    347.741     -5.690      0.000   -2664.907   -1292.612\n",
       "expected_recovery_amount     2.7577      0.345      7.986      0.000       2.076       3.439\n",
       "==============================================================================\n",
       "Omnibus:                       64.493   Durbin-Watson:                   1.777\n",
       "Prob(Omnibus):                  0.000   Jarque-Bera (JB):              185.818\n",
       "Skew:                           1.463   Prob(JB):                     4.47e-41\n",
       "Kurtosis:                       6.977   Cond. No.                     1.80e+04\n",
       "==============================================================================\n",
       "\n",
       "Notes:\n",
       "[1] Standard Errors assume that the covariance matrix of the errors is correctly specified.\n",
       "[2] The condition number is large, 1.8e+04. This might indicate that there are\n",
       "strong multicollinearity or other numerical problems.\n",
       "\"\"\""
      ]
     },
     "execution_count": 8,
     "metadata": {},
     "output_type": "execute_result"
    }
   ],
   "source": [
    "# Create indicator (0 or 1) for expected recovery amount >= $1000\n",
    "df['indicator_1000'] = np.where(df['expected_recovery_amount']<1000, 0, 1)\n",
    "era_900_1100 = df.loc[(df['expected_recovery_amount']<1100) & \n",
    "                      (df['expected_recovery_amount']>=900)]\n",
    "\n",
    "# Define X and y\n",
    "X = era_900_1100[\"expected_recovery_amount\"]\n",
    "y = era_900_1100[\"actual_recovery_amount\"]\n",
    "X = sm.add_constant(X)\n",
    "\n",
    "# Build linear regression model\n",
    "model = sm.OLS(y,X).fit()\n",
    "\n",
    "# Print the model summary\n",
    "model.summary()"
   ]
  },
  {
   "cell_type": "markdown",
   "id": "663e4f67-02bb-4ba5-ac8a-c02746f8a223",
   "metadata": {
    "dc": {
     "key": "62"
    },
    "run_control": {
     "frozen": true
    },
    "tags": [
     "context"
    ]
   },
   "source": [
    "## 9. Regression modeling: adjusting the window\n",
    "<p>The regression coefficient for the true threshold was statistically significant with an estimated impact of around \\$278.  This is much larger than the \\$50 per customer needed to run this higher recovery strategy. </p>\n",
    "<p>Before showing this to our manager, we want to convince ourselves that this result wasn't due to choosing an expected recovery amount window of \\$900 to \\$1100. Let's repeat this analysis for the window from \\$950 to \\$1050 to see if we get similar results.</p>\n",
    "<p>The answer? Whether we use a wide (\\$900 to \\$1100) or narrower window (\\$950 to \\$1050), the incremental recovery amount at the higher recovery strategy is much greater than the \\$50 per customer it costs for the higher recovery strategy.  So we conclude that the higher recovery strategy is worth the extra cost of \\$50 per customer.</p>"
   ]
  },
  {
   "cell_type": "code",
   "execution_count": 9,
   "id": "90070caa-48a7-47bc-a90e-205059003075",
   "metadata": {
    "dc": {
     "key": "62"
    },
    "tags": [
     "sample_code"
    ]
   },
   "outputs": [
    {
     "data": {
      "text/html": [
       "<table class=\"simpletable\">\n",
       "<caption>OLS Regression Results</caption>\n",
       "<tr>\n",
       "  <th>Dep. Variable:</th>    <td>actual_recovery_amount</td> <th>  R-squared:         </th> <td>   0.000</td>\n",
       "</tr>\n",
       "<tr>\n",
       "  <th>Model:</th>                      <td>OLS</td>          <th>  Adj. R-squared:    </th> <td>  -0.023</td>\n",
       "</tr>\n",
       "<tr>\n",
       "  <th>Method:</th>                <td>Least Squares</td>     <th>  F-statistic:       </th> <td>0.004602</td>\n",
       "</tr>\n",
       "<tr>\n",
       "  <th>Date:</th>                <td>Tue, 29 Nov 2022</td>    <th>  Prob (F-statistic):</th>  <td> 0.946</td> \n",
       "</tr>\n",
       "<tr>\n",
       "  <th>Time:</th>                    <td>21:52:19</td>        <th>  Log-Likelihood:    </th> <td> -322.51</td>\n",
       "</tr>\n",
       "<tr>\n",
       "  <th>No. Observations:</th>         <td>    45</td>         <th>  AIC:               </th> <td>   649.0</td>\n",
       "</tr>\n",
       "<tr>\n",
       "  <th>Df Residuals:</th>             <td>    43</td>         <th>  BIC:               </th> <td>   652.6</td>\n",
       "</tr>\n",
       "<tr>\n",
       "  <th>Df Model:</th>                 <td>     1</td>         <th>                     </th>     <td> </td>   \n",
       "</tr>\n",
       "<tr>\n",
       "  <th>Covariance Type:</th>         <td>nonrobust</td>       <th>                     </th>     <td> </td>   \n",
       "</tr>\n",
       "</table>\n",
       "<table class=\"simpletable\">\n",
       "<tr>\n",
       "              <td></td>                <th>coef</th>     <th>std err</th>      <th>t</th>      <th>P>|t|</th>  <th>[0.025</th>    <th>0.975]</th>  \n",
       "</tr>\n",
       "<tr>\n",
       "  <th>expected_recovery_amount</th> <td>    0.2184</td> <td>    3.219</td> <td>    0.068</td> <td> 0.946</td> <td>   -6.274</td> <td>    6.711</td>\n",
       "</tr>\n",
       "<tr>\n",
       "  <th>indicator_1000</th>           <td>  726.5726</td> <td> 3306.972</td> <td>    0.220</td> <td> 0.827</td> <td>-5942.571</td> <td> 7395.716</td>\n",
       "</tr>\n",
       "</table>\n",
       "<table class=\"simpletable\">\n",
       "<tr>\n",
       "  <th>Omnibus:</th>       <td>22.838</td> <th>  Durbin-Watson:     </th> <td>   1.958</td>\n",
       "</tr>\n",
       "<tr>\n",
       "  <th>Prob(Omnibus):</th> <td> 0.000</td> <th>  Jarque-Bera (JB):  </th> <td>  34.365</td>\n",
       "</tr>\n",
       "<tr>\n",
       "  <th>Skew:</th>          <td> 1.605</td> <th>  Prob(JB):          </th> <td>3.45e-08</td>\n",
       "</tr>\n",
       "<tr>\n",
       "  <th>Kurtosis:</th>      <td> 5.832</td> <th>  Cond. No.          </th> <td>7.10e+04</td>\n",
       "</tr>\n",
       "</table><br/><br/>Notes:<br/>[1] Standard Errors assume that the covariance matrix of the errors is correctly specified.<br/>[2] The condition number is large, 7.1e+04. This might indicate that there are<br/>strong multicollinearity or other numerical problems."
      ],
      "text/plain": [
       "<class 'statsmodels.iolib.summary.Summary'>\n",
       "\"\"\"\n",
       "                              OLS Regression Results                              \n",
       "==================================================================================\n",
       "Dep. Variable:     actual_recovery_amount   R-squared:                       0.000\n",
       "Model:                                OLS   Adj. R-squared:                 -0.023\n",
       "Method:                     Least Squares   F-statistic:                  0.004602\n",
       "Date:                    Tue, 29 Nov 2022   Prob (F-statistic):              0.946\n",
       "Time:                            21:52:19   Log-Likelihood:                -322.51\n",
       "No. Observations:                      45   AIC:                             649.0\n",
       "Df Residuals:                          43   BIC:                             652.6\n",
       "Df Model:                               1                                         \n",
       "Covariance Type:                nonrobust                                         \n",
       "============================================================================================\n",
       "                               coef    std err          t      P>|t|      [0.025      0.975]\n",
       "--------------------------------------------------------------------------------------------\n",
       "expected_recovery_amount     0.2184      3.219      0.068      0.946      -6.274       6.711\n",
       "indicator_1000             726.5726   3306.972      0.220      0.827   -5942.571    7395.716\n",
       "==============================================================================\n",
       "Omnibus:                       22.838   Durbin-Watson:                   1.958\n",
       "Prob(Omnibus):                  0.000   Jarque-Bera (JB):               34.365\n",
       "Skew:                           1.605   Prob(JB):                     3.45e-08\n",
       "Kurtosis:                       5.832   Cond. No.                     7.10e+04\n",
       "==============================================================================\n",
       "\n",
       "Notes:\n",
       "[1] Standard Errors assume that the covariance matrix of the errors is correctly specified.\n",
       "[2] The condition number is large, 7.1e+04. This might indicate that there are\n",
       "strong multicollinearity or other numerical problems.\n",
       "\"\"\""
      ]
     },
     "execution_count": 9,
     "metadata": {},
     "output_type": "execute_result"
    }
   ],
   "source": [
    "# Redefine era_950_1050 so the indicator variable is included\n",
    "era_950_1050 = df.loc[(df['expected_recovery_amount']<1050) & \n",
    "                      (df['expected_recovery_amount']>=950) & (df['indicator_1000'])]\n",
    "\n",
    "# Define X and y \n",
    "X = era_950_1050[['expected_recovery_amount','indicator_1000']]\n",
    "y = era_950_1050['actual_recovery_amount']\n",
    "X = sm.add_constant(X)\n",
    "\n",
    "# Build linear regression model\n",
    "model = sm.OLS(y,X).fit()\n",
    "\n",
    "# Print the model summary\n",
    "model.summary()"
   ]
  }
 ],
 "metadata": {
  "editor": "DataCamp Workspace",
  "kernelspec": {
   "display_name": "Python 3 (ipykernel)",
   "language": "python",
   "name": "python3"
  },
  "language_info": {
   "codemirror_mode": {
    "name": "ipython",
    "version": 3
   },
   "file_extension": ".py",
   "mimetype": "text/x-python",
   "name": "python",
   "nbconvert_exporter": "python",
   "pygments_lexer": "ipython3",
   "version": "3.9.16"
  }
 },
 "nbformat": 4,
 "nbformat_minor": 5
}
